{
 "cells": [
  {
   "cell_type": "code",
   "execution_count": 1,
   "metadata": {},
   "outputs": [],
   "source": [
    "import streamlit as st\n",
    "import pandas as pd\n",
    "import plotly.express as px"
   ]
  },
  {
   "cell_type": "code",
   "execution_count": 2,
   "metadata": {},
   "outputs": [
    {
     "name": "stderr",
     "output_type": "stream",
     "text": [
      "2025-04-06 03:20:52.299 WARNING streamlit.runtime.scriptrunner_utils.script_run_context: Thread 'MainThread': missing ScriptRunContext! This warning can be ignored when running in bare mode.\n",
      "2025-04-06 03:20:52.299 WARNING streamlit.runtime.scriptrunner_utils.script_run_context: Thread 'MainThread': missing ScriptRunContext! This warning can be ignored when running in bare mode.\n",
      "2025-04-06 03:20:52.814 \n",
      "  \u001b[33m\u001b[1mWarning:\u001b[0m to view this Streamlit app on a browser, run it with the following\n",
      "  command:\n",
      "\n",
      "    streamlit run C:\\Users\\jgame\\AppData\\Roaming\\Python\\Python311\\site-packages\\ipykernel_launcher.py [ARGUMENTS]\n",
      "2025-04-06 03:20:52.815 Thread 'MainThread': missing ScriptRunContext! This warning can be ignored when running in bare mode.\n",
      "2025-04-06 03:20:52.816 Thread 'MainThread': missing ScriptRunContext! This warning can be ignored when running in bare mode.\n",
      "2025-04-06 03:20:52.816 Thread 'MainThread': missing ScriptRunContext! This warning can be ignored when running in bare mode.\n",
      "2025-04-06 03:20:52.817 Thread 'MainThread': missing ScriptRunContext! This warning can be ignored when running in bare mode.\n",
      "2025-04-06 03:20:52.818 Thread 'MainThread': missing ScriptRunContext! This warning can be ignored when running in bare mode.\n",
      "2025-04-06 03:20:52.818 Session state does not function when running a script without `streamlit run`\n",
      "2025-04-06 03:20:52.819 Thread 'MainThread': missing ScriptRunContext! This warning can be ignored when running in bare mode.\n",
      "2025-04-06 03:20:52.819 Thread 'MainThread': missing ScriptRunContext! This warning can be ignored when running in bare mode.\n",
      "2025-04-06 03:20:52.820 Thread 'MainThread': missing ScriptRunContext! This warning can be ignored when running in bare mode.\n",
      "2025-04-06 03:20:52.820 Thread 'MainThread': missing ScriptRunContext! This warning can be ignored when running in bare mode.\n",
      "2025-04-06 03:20:52.821 Thread 'MainThread': missing ScriptRunContext! This warning can be ignored when running in bare mode.\n",
      "2025-04-06 03:20:52.822 Thread 'MainThread': missing ScriptRunContext! This warning can be ignored when running in bare mode.\n",
      "2025-04-06 03:20:52.822 Thread 'MainThread': missing ScriptRunContext! This warning can be ignored when running in bare mode.\n",
      "2025-04-06 03:20:52.824 Thread 'MainThread': missing ScriptRunContext! This warning can be ignored when running in bare mode.\n",
      "2025-04-06 03:20:52.825 Thread 'MainThread': missing ScriptRunContext! This warning can be ignored when running in bare mode.\n",
      "2025-04-06 03:20:52.825 Thread 'MainThread': missing ScriptRunContext! This warning can be ignored when running in bare mode.\n",
      "2025-04-06 03:20:53.123 Thread 'MainThread': missing ScriptRunContext! This warning can be ignored when running in bare mode.\n",
      "2025-04-06 03:20:53.124 Thread 'MainThread': missing ScriptRunContext! This warning can be ignored when running in bare mode.\n",
      "2025-04-06 03:20:53.125 Thread 'MainThread': missing ScriptRunContext! This warning can be ignored when running in bare mode.\n",
      "2025-04-06 03:20:53.125 Thread 'MainThread': missing ScriptRunContext! This warning can be ignored when running in bare mode.\n",
      "2025-04-06 03:20:53.126 Thread 'MainThread': missing ScriptRunContext! This warning can be ignored when running in bare mode.\n",
      "2025-04-06 03:20:53.126 Thread 'MainThread': missing ScriptRunContext! This warning can be ignored when running in bare mode.\n",
      "2025-04-06 03:20:53.261 Thread 'MainThread': missing ScriptRunContext! This warning can be ignored when running in bare mode.\n",
      "2025-04-06 03:20:53.263 Thread 'MainThread': missing ScriptRunContext! This warning can be ignored when running in bare mode.\n",
      "2025-04-06 03:20:53.264 Thread 'MainThread': missing ScriptRunContext! This warning can be ignored when running in bare mode.\n",
      "2025-04-06 03:20:53.264 Thread 'MainThread': missing ScriptRunContext! This warning can be ignored when running in bare mode.\n",
      "2025-04-06 03:20:53.265 Thread 'MainThread': missing ScriptRunContext! This warning can be ignored when running in bare mode.\n",
      "2025-04-06 03:20:53.265 Thread 'MainThread': missing ScriptRunContext! This warning can be ignored when running in bare mode.\n",
      "2025-04-06 03:20:53.307 Thread 'MainThread': missing ScriptRunContext! This warning can be ignored when running in bare mode.\n",
      "2025-04-06 03:20:53.307 Thread 'MainThread': missing ScriptRunContext! This warning can be ignored when running in bare mode.\n",
      "2025-04-06 03:20:53.308 Thread 'MainThread': missing ScriptRunContext! This warning can be ignored when running in bare mode.\n",
      "2025-04-06 03:20:53.308 Thread 'MainThread': missing ScriptRunContext! This warning can be ignored when running in bare mode.\n",
      "2025-04-06 03:20:53.309 Thread 'MainThread': missing ScriptRunContext! This warning can be ignored when running in bare mode.\n",
      "2025-04-06 03:20:53.310 Thread 'MainThread': missing ScriptRunContext! This warning can be ignored when running in bare mode.\n",
      "2025-04-06 03:20:53.331 Thread 'MainThread': missing ScriptRunContext! This warning can be ignored when running in bare mode.\n",
      "2025-04-06 03:20:53.332 Thread 'MainThread': missing ScriptRunContext! This warning can be ignored when running in bare mode.\n",
      "2025-04-06 03:20:53.332 Thread 'MainThread': missing ScriptRunContext! This warning can be ignored when running in bare mode.\n",
      "2025-04-06 03:20:53.333 Thread 'MainThread': missing ScriptRunContext! This warning can be ignored when running in bare mode.\n",
      "2025-04-06 03:20:53.740 Thread 'MainThread': missing ScriptRunContext! This warning can be ignored when running in bare mode.\n",
      "2025-04-06 03:20:53.744 Thread 'MainThread': missing ScriptRunContext! This warning can be ignored when running in bare mode.\n",
      "2025-04-06 03:20:53.745 Thread 'MainThread': missing ScriptRunContext! This warning can be ignored when running in bare mode.\n",
      "2025-04-06 03:20:53.745 Thread 'MainThread': missing ScriptRunContext! This warning can be ignored when running in bare mode.\n",
      "2025-04-06 03:20:53.746 Thread 'MainThread': missing ScriptRunContext! This warning can be ignored when running in bare mode.\n",
      "2025-04-06 03:20:53.747 Thread 'MainThread': missing ScriptRunContext! This warning can be ignored when running in bare mode.\n",
      "2025-04-06 03:20:53.748 Thread 'MainThread': missing ScriptRunContext! This warning can be ignored when running in bare mode.\n"
     ]
    },
    {
     "data": {
      "text/plain": [
       "DeltaGenerator()"
      ]
     },
     "execution_count": 2,
     "metadata": {},
     "output_type": "execute_result"
    }
   ],
   "source": [
    "# Load the dataset\n",
    "df = pd.read_csv(\"sales_advanced.csv\")\n",
    "\n",
    "st.set_page_config(page_title=\"Advanced Sales Dashboard\", layout=\"wide\")\n",
    "st.title(\"📊 Advanced Sales Dashboard (Q1 2023)\")\n",
    "\n",
    "# Sidebar filters\n",
    "region_filter = st.sidebar.selectbox(\"Filter by Region:\", df[\"Region\"].unique())\n",
    "segment_filter = st.sidebar.selectbox(\"Filter by Segment:\", df[\"Segment\"].unique())\n",
    "\n",
    "filtered_df = df[(df[\"Region\"] == region_filter) & (df[\"Segment\"] == segment_filter)]\n",
    "\n",
    "# 1️⃣ Interactive Line Chart: Sales Trend by Region\n",
    "st.subheader(\"📈 Sales Trend by Region\")\n",
    "line_chart = px.line(filtered_df, x=\"Date\", y=\"Sales\", color=\"Product\", markers=True)\n",
    "st.plotly_chart(line_chart, use_container_width=True)\n",
    "\n",
    "# 2️⃣ Animated Bar Chart: Monthly Product Sales\n",
    "st.subheader(\"📊 Animated Product Sales by Month\")\n",
    "bar_chart = px.bar(df, x=\"Product\", y=\"Sales\", color=\"Region\", animation_frame=\"Month\", barmode=\"group\")\n",
    "st.plotly_chart(bar_chart, use_container_width=True)\n",
    "\n",
    "# 3️⃣ Pie Chart: Sales by Customer Segment\n",
    "st.subheader(\"🧩 Sales Distribution by Segment\")\n",
    "pie_data = df.groupby(\"Segment\")[\"Sales\"].sum().reset_index()\n",
    "pie_chart = px.pie(pie_data, names=\"Segment\", values=\"Sales\", title=\"Sales by Segment\", hole=0.4)\n",
    "st.plotly_chart(pie_chart, use_container_width=True)\n",
    "\n",
    "# 4️⃣ Filtered Table\n",
    "st.subheader(\"📋 Filtered Sales Table\")\n",
    "st.dataframe(filtered_df.reset_index(drop=True))\n",
    "\n",
    "# 5️⃣ Heatmap (Sales by Region and Product)\n",
    "st.subheader(\"🔥 Sales Heatmap (Region vs Product)\")\n",
    "heatmap_data = df.pivot_table(index=\"Region\", columns=\"Product\", values=\"Sales\", aggfunc=\"sum\")\n",
    "st.dataframe(heatmap_data.style.background_gradient(cmap='Blues'))\n",
    "\n",
    "st.markdown(\"---\")\n",
    "st.markdown(\"✅ Built with Python, Pandas, Plotly, and Streamlit\")"
   ]
  }
 ],
 "metadata": {
  "kernelspec": {
   "display_name": "Python 3",
   "language": "python",
   "name": "python3"
  },
  "language_info": {
   "codemirror_mode": {
    "name": "ipython",
    "version": 3
   },
   "file_extension": ".py",
   "mimetype": "text/x-python",
   "name": "python",
   "nbconvert_exporter": "python",
   "pygments_lexer": "ipython3",
   "version": "3.11.9"
  }
 },
 "nbformat": 4,
 "nbformat_minor": 2
}
